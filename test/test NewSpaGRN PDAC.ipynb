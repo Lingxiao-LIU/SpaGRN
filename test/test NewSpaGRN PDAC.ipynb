{
 "cells": [
  {
   "cell_type": "code",
   "execution_count": null,
   "id": "ff9e4af9",
   "metadata": {},
   "outputs": [
    {
     "name": "stdout",
     "output_type": "stream",
     "text": [
      "The autoreload extension is already loaded. To reload it, use:\n",
      "  %reload_ext autoreload\n",
      "Initial PDAC shape: (417793, 965)\n",
      "Initial PDAC.obs_names: Index(['B10_1_1', 'B10_2_1', 'B10_3_1', 'B10_4_1', 'B10_5_1'], dtype='object')\n",
      "WARNING: adata.X seems to be already log-transformed.\n",
      "Post-preprocessing shape: (417793, 965)\n",
      "Post-preprocessing obs_names: Index(['B10_1_1', 'B10_2_1', 'B10_3_1', 'B10_4_1', 'B10_5_1'], dtype='object')\n",
      "grn._data.to_df() index: Index(['B10_1_1', 'B10_2_1', 'B10_3_1', 'B10_4_1', 'B10_5_1'], dtype='object')\n",
      "----------------------------------------\n",
      "Project name is PDAC_project\n",
      "Saving output files into /Users/linliu/miniconda3/envs/newspagrn/lib/python3.8/site-packages/spagrn\n",
      "Saving temporary files to /Users/linliu/miniconda3/envs/newspagrn/lib/python3.8/site-packages/spagrn/tmp_files\n",
      "----------------------------------------\n"
     ]
    },
    {
     "name": "stderr",
     "output_type": "stream",
     "text": [
      "Computing autocorrelations:   2%|▏         | 17/965 [54:47<41:27:20, 157.43s/it]"
     ]
    }
   ],
   "source": [
    "%load_ext autoreload\n",
    "%autoreload 2\n",
    "import os\n",
    "import pandas as pd\n",
    "import scanpy as sc\n",
    "import anndata as ad\n",
    "import numpy as np\n",
    "import spagrn\n",
    "from spagrn.network import Network  # Import the Network class\n",
    "from spagrn import plot as prn\n",
    "from pyscenic.aucell import aucell\n",
    "from scipy.spatial.distance import jensenshannon\n",
    "\n",
    "\n",
    "\n",
    "# Load data\n",
    "PDAC = ad.read_h5ad('/Users/linliu/Library/CloudStorage/Box-Box/linliu/PDAC/ad_PDAC/PDAC_SIMVI.h5ad')\n",
    "print(\"Initial PDAC shape:\", PDAC.shape)\n",
    "print(\"Initial PDAC.obs_names:\", PDAC.obs_names[:5])  # Show first 5 for brevity\n",
    "\n",
    "# Preprocess data\n",
    "PDAC.X = PDAC.layers['counts']\n",
    "PDAC.layers['counts'] = PDAC.layers['counts'].tocsc()\n",
    "PDAC.obs['total_counts'] = np.sum(PDAC.layers['counts'], axis=1)\n",
    "sc.pp.normalize_total(PDAC, target_sum=1e4)\n",
    "sc.pp.log1p(PDAC)\n",
    "PDAC = Network.preprocess(PDAC, min_genes=10, min_cells=20, min_counts=20, max_gene_num=4000)\n",
    "print(\"Post-preprocessing shape:\", PDAC.shape)\n",
    "print(\"Post-preprocessing obs_names:\", PDAC.obs_names[:5])\n",
    "\n",
    "\n",
    "# Load input files\n",
    "tfs_fn = r'/Users/linliu/Library/CloudStorage/OneDrive-AugustaUniversity/GRN Analysis Input Resources/allTFs_hg38.txt'\n",
    "database_fn = r'/Users/linliu/Library/CloudStorage/OneDrive-AugustaUniversity/GRN Analysis Input Resources/hg38_10kbp_up_10kbp_down_full_tx_v10_clust.genes_vs_motifs.rankings.feather'\n",
    "motif_anno_fn = r'/Users/linliu/Library/CloudStorage/OneDrive-AugustaUniversity/GRN Analysis Input Resources/motifs-v10nr_clust-nr.hgnc-m0.001-o0.0.tbl'\n",
    "niches = pd.read_csv(r'/Users/linliu/Library/CloudStorage/OneDrive-AugustaUniversity/GRN Analysis Input Resources/lr_network_human.csv')\n",
    "\n",
    "\n",
    "# Initialize InferNetwork\n",
    "grn = spagrn.regulatory_network.InferNetwork(adata=PDAC, project_name=\"PDAC_project\")\n",
    "grn.add_params({'num_worker':12, 'auc_threshold': 0.05})\n",
    "print(\"grn._data.to_df() index:\", grn._data.to_df().index[:5])\n",
    "\n",
    "# Verify index alignment\n",
    "if not (grn._data.to_df().index.equals(PDAC.obs_names)):\n",
    "    raise ValueError(\"Index mismatch between grn._data.to_df().index and PDAC.obs_names\")\n",
    "\n",
    "# Clear cache files\n",
    "cache_files = ['project_adj.csv', 'project_auc.csv', 'project_motifs.csv', \n",
    "               'project_filtered_targets_receptor.json', 'project_spagrn.h5ad']\n",
    "for f in cache_files:\n",
    "    if os.path.exists(f):\n",
    "        os.remove(f)\n",
    "        print(f\"Removed cache file: {f}\")\n",
    "\n",
    "# Run inference\n",
    "try:\n",
    "    grn.infer(\n",
    "        database_fn,\n",
    "        motif_anno_fn,\n",
    "        tfs_fn,\n",
    "        niche_df=niches,\n",
    "        num_workers=1,\n",
    "        cache=False,\n",
    "        save_tmp=True,\n",
    "        latent_obsm_key='spatial',\n",
    "        model='bernoulli',\n",
    "        n_neighbors=30,\n",
    "        cluster_label='subleiden',\n",
    "        layers='counts',\n",
    "        umi_counts_obs_key=\"total_counts\",\n",
    "        batch_key='patient'\n",
    "    )\n",
    "    \n",
    "    # Verify output\n",
    "    print(\"Output adata.obs_names:\", PDAC.obs_names[:5])\n",
    "    print(\"Output auc_mtx index:\", PDAC.obsm['auc_mtx'].index[:5])\n",
    "    print(\"Successfully completed GRN inference!\")\n",
    "    \n",
    "except Exception as e:\n",
    "    print(f\"Error during inference: {str(e)}\")\n",
    "    print(f\"Error type: {type(e).__name__}\")\n",
    "    raise"
   ]
  },
  {
   "cell_type": "code",
   "execution_count": null,
   "id": "b4bfc437",
   "metadata": {},
   "outputs": [],
   "source": [
    "rss = Network.regulon_specificity_scores(PDAC.obsm['auc_mtx'], PDAC.obs['annotation'])\n",
    "    PDAC.uns['rss'] = rss  # Store RSS in PDAC.uns['rss']"
   ]
  }
 ],
 "metadata": {
  "kernelspec": {
   "display_name": "newspagrn",
   "language": "python",
   "name": "python3"
  },
  "language_info": {
   "codemirror_mode": {
    "name": "ipython",
    "version": 3
   },
   "file_extension": ".py",
   "mimetype": "text/x-python",
   "name": "python",
   "nbconvert_exporter": "python",
   "pygments_lexer": "ipython3",
   "version": "3.8.20"
  }
 },
 "nbformat": 4,
 "nbformat_minor": 5
}
